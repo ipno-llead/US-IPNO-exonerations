{
 "cells": [
  {
   "cell_type": "code",
   "execution_count": null,
   "metadata": {},
   "outputs": [],
   "source": [
    "\n",
    "            \n",
    "            \n"
   ]
  },
  {
   "cell_type": "code",
   "execution_count": null,
   "metadata": {},
   "outputs": [],
   "source": []
  },
  {
   "cell_type": "code",
   "execution_count": 1,
   "metadata": {},
   "outputs": [],
   "source": [
    "from pdf2image import convert_from_path\n",
    "from os import path\n",
    "import fitz\n",
    "test_input = \"/home/jargentino/projects/US-IPNO-exonerations/pdf2pngs/input/complex_test_input.pdf\"\n",
    "output_folder = \"/home/jargentino/projects/US-IPNO-exonerations/pdf2pngs/output/\"\n",
    "name_start_index = test_input.rfind(\"/\")\n",
    "name = test_input[name_start_index+1:-4]\n",
    "\n",
    "test_dpi = 60\n",
    "def pdf2png(pdf_path,dpi,png_path):\n",
    "    doc = fitz.open(pdf_path)\n",
    "    pages = convert_from_path(pdf_path,dpi)\n",
    "    page_number = 0\n",
    "    for page in pages:\n",
    "        pdf_page = doc[page_number]\n",
    "        page_number += 1\n",
    "        str_num = str(page_number).zfill(4)\n",
    "        page.save(png_path+name+\"_p\"+str_num+\".png\",'PNG')\n",
    "    \n",
    "pdf2png(test_input,test_dpi,output_folder)\n"
   ]
  },
  {
   "cell_type": "code",
   "execution_count": null,
   "metadata": {},
   "outputs": [],
   "source": []
  },
  {
   "cell_type": "code",
   "execution_count": null,
   "metadata": {},
   "outputs": [],
   "source": []
  }
 ],
 "metadata": {
  "kernelspec": {
   "display_name": "Python 3",
   "language": "python",
   "name": "python3"
  },
  "language_info": {
   "codemirror_mode": {
    "name": "ipython",
    "version": 3
   },
   "file_extension": ".py",
   "mimetype": "text/x-python",
   "name": "python",
   "nbconvert_exporter": "python",
   "pygments_lexer": "ipython3",
   "version": "3.7.3"
  }
 },
 "nbformat": 4,
 "nbformat_minor": 4
}
